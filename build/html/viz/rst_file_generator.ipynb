{
 "cells": [
  {
   "cell_type": "code",
   "execution_count": 22,
   "metadata": {
    "collapsed": true,
    "deletable": true,
    "editable": true
   },
   "outputs": [],
   "source": [
    "from os import listdir\n",
    "import csv\n",
    "from os.path import isfile, join"
   ]
  },
  {
   "cell_type": "code",
   "execution_count": 23,
   "metadata": {
    "collapsed": true,
    "deletable": true,
    "editable": true
   },
   "outputs": [],
   "source": [
    "dir_path = \"../../../source/adivasis/\"\n",
    "file_path = \"data/adivasis.csv\"\n",
    "file_name = \"adivasis\""
   ]
  },
  {
   "cell_type": "code",
   "execution_count": 24,
   "metadata": {
    "collapsed": false,
    "deletable": true,
    "editable": true,
    "scrolled": true
   },
   "outputs": [
    {
     "name": "stdout",
     "output_type": "stream",
     "text": [
      "<open file 'data/adivasis.csv', mode 'r+' at 0x7f76dc3d68a0>\n",
      "Adivasis\n",
      "sca_to_tsp Special Central Assistance to Tribal Sub Plan\n",
      "scheme_under_proviso_to_article_of_the_constitution Scheme under proviso to Article 275(1) of the Constitution\n",
      "umbrella_scheme_for_development_of_st_vanbandhu_kalyan_yojana Umbrella Scheme for Development of STs:Vanbandhu Kalyan Yojna\n",
      "umbrella_scheme_for_education_of_st_children Umbrella Scheme for Education of ST children\n"
     ]
    }
   ],
   "source": [
    "\n",
    "#remove_characters =\"!@#$()*%\"\n",
    "with open(file_path, 'r+') as csvfile:\n",
    "    print csvfile\n",
    "    \n",
    "    index_file = open(dir_path + \"index.rst\", \"wb\")\n",
    "    print file_name.title()\n",
    "    index_file.write(file_name.title()+ \"\\n\")\n",
    "    index_file.write(\"=\"*(len(file_name)+ 3) + \"\\n\")\n",
    "    index_file.write(\"\\nContents:\\n\\n\")\n",
    "    index_file.write(\".. toctree::\\n\\t:maxdepth: 2\\n\\n\")\n",
    "\n",
    "    reader = csv.DictReader(csvfile)\n",
    "    for line in reader:\n",
    "        sub_file = line[\"index_name\"]\n",
    "        index_file.write(\"\\t\" + line[\"slug_name\"]+ \".rst\" +\"\\n\")\n",
    "        print line['slug_name'], line[\"index_name\"]\n",
    "        fo = open(dir_path + line[\"slug_name\"]+\".rst\", \"wb\")\n",
    "        fo.write(line[\"index_name\"]+\"\\n\")\n",
    "        fo.write(\"=\"*(len(line[\"index_name\"])+ 3) + \"\\n\")\n",
    "        fo.write(\"\\n.. raw:: html\\n\\n\" )\n",
    "        fo.write(\"\\t\" + str(\"<iframe src='../viz/visualization.html#barchart/\"+ file_name +\"/\"+ line[\"slug_name\"] +\"' width='100%', height='500', frameBorder='0'></iframe>\"))\n",
    "        fo.close()\n",
    "    index_file.close()"
   ]
  },
  {
   "cell_type": "code",
   "execution_count": 41,
   "metadata": {
    "collapsed": false,
    "deletable": true,
    "editable": true
   },
   "outputs": [
    {
     "name": "stdout",
     "output_type": "stream",
     "text": [
      "Agriculture\n"
     ]
    }
   ],
   "source": [
    "\n"
   ]
  },
  {
   "cell_type": "code",
   "execution_count": null,
   "metadata": {
    "collapsed": true,
    "deletable": true,
    "editable": true
   },
   "outputs": [],
   "source": []
  }
 ],
 "metadata": {
  "kernelspec": {
   "display_name": "Python 2",
   "language": "python",
   "name": "python2"
  },
  "language_info": {
   "codemirror_mode": {
    "name": "ipython",
    "version": 2
   },
   "file_extension": ".py",
   "mimetype": "text/x-python",
   "name": "python",
   "nbconvert_exporter": "python",
   "pygments_lexer": "ipython2",
   "version": "2.7.12"
  }
 },
 "nbformat": 4,
 "nbformat_minor": 0
}
