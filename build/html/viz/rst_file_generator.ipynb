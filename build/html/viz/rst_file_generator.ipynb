{
 "cells": [
  {
   "cell_type": "code",
   "execution_count": 25,
   "metadata": {
    "collapsed": true,
    "deletable": true,
    "editable": true
   },
   "outputs": [],
   "source": [
    "from os import listdir\n",
    "import csv\n",
    "from os.path import isfile, join"
   ]
  },
  {
   "cell_type": "code",
   "execution_count": 26,
   "metadata": {
    "collapsed": true,
    "deletable": true,
    "editable": true
   },
   "outputs": [],
   "source": [
    "dir_path = \"../../../source/nutrition/\"\n",
    "file_path = \"data/nutrition.csv\"\n",
    "file_name = \"nutrition\""
   ]
  },
  {
   "cell_type": "code",
   "execution_count": 29,
   "metadata": {
    "collapsed": false,
    "deletable": true,
    "editable": true,
    "scrolled": true
   },
   "outputs": [
    {
     "name": "stdout",
     "output_type": "stream",
     "text": [
      "<open file 'data/nutrition.csv', mode 'r+' at 0x7f76dc3d6780>\n",
      "Nutrition\n",
      "core_icds_anganwadi_services Core Integrated Child Development Services(ICDS)/ Anganwadi services\n",
      "national_creche_scheme National Creche Scheme\n",
      "igmsy_mbp Indira Gandhi Matritva Sahyog Yojana (IGMSY)/Maternity Benefit Programme (MBP)\n",
      "sabla SABLA\n",
      "food_subsidy Food subsidy\n",
      "nrhm_nuhm National Rural Health Mission (NRHM) + National Urban Health Mission (NUHM)\n",
      "mid_day_meal Mid-day Meal (MDM)\n",
      "rmsa Rashtriya Madhyamik Shiksha Abhiyan (RMSA)\n",
      "nrdwp National Rural Driniking Water Programme (NRDWP)\n",
      "sbm_rural_urban Swachh Bharat Mission (Rural + Urban)\n",
      "mgnrega Mahatma Gandhi National Rural Employment Guarantee Act(MGNREGA)\n",
      "nlm_nrlm_nulm National Livelihoods Mission (NRLM + NULM)\n",
      "nsap National Social Assistance Programme (NSAP)\n",
      "nfsm National Food Security Mission (NFSM)\n",
      "nmsa National Mission for Sustainable Agriculture (NMSA)\n",
      "nmoop National Mission on Oilseeds and Oil Palm (NMOOP)\n",
      "rkvy Rashtriya Krishi Vikas Yojana (RKVY)\n",
      "white_revolution White Revolution\n",
      "blue_revolution Blue Revolution\n",
      "national_horticulture_mission National Horticulture Mission\n",
      "total_nutrition Total Nutrition\n"
     ]
    }
   ],
   "source": [
    "\n",
    "#remove_characters =\"!@#$()*%\"\n",
    "with open(file_path, 'r+') as csvfile:\n",
    "    print csvfile\n",
    "    \n",
    "    index_file = open(dir_path + \"index.rst\", \"wb\")\n",
    "    print file_name.title()\n",
    "    index_file.write(file_name.title()+ \"\\n\")\n",
    "    index_file.write(\"=\"*(len(file_name)+ 3) + \"\\n\")\n",
    "    index_file.write(\"\\nContents:\\n\\n\")\n",
    "    index_file.write(\".. toctree::\\n\\t:maxdepth: 2\\n\\n\")\n",
    "\n",
    "    reader = csv.DictReader(csvfile)\n",
    "    for line in reader:\n",
    "        sub_file = line[\"index_name\"]\n",
    "        index_file.write(\"\\t\" + line[\"slug_name\"]+ \".rst\" +\"\\n\")\n",
    "        print line['slug_name'], line[\"index_name\"]\n",
    "        fo = open(dir_path + line[\"slug_name\"]+\".rst\", \"wb\")\n",
    "        fo.write(line[\"index_name\"]+\"\\n\")\n",
    "        fo.write(\"=\"*(len(line[\"index_name\"])+ 3) + \"\\n\")\n",
    "        fo.write(\"\\n.. raw:: html\\n\\n\" )\n",
    "        fo.write(\"\\t\" + str(\"<iframe src='../viz/visualization.html#barchart/\"+ file_name +\"/\"+ line[\"slug_name\"] +\"' width='100%', height='500', frameBorder='0'></iframe>\"))\n",
    "        fo.close()\n",
    "    index_file.close()"
   ]
  },
  {
   "cell_type": "code",
   "execution_count": 41,
   "metadata": {
    "collapsed": false,
    "deletable": true,
    "editable": true
   },
   "outputs": [
    {
     "name": "stdout",
     "output_type": "stream",
     "text": [
      "Agriculture\n"
     ]
    }
   ],
   "source": [
    "\n"
   ]
  },
  {
   "cell_type": "code",
   "execution_count": null,
   "metadata": {
    "collapsed": true,
    "deletable": true,
    "editable": true
   },
   "outputs": [],
   "source": []
  }
 ],
 "metadata": {
  "kernelspec": {
   "display_name": "Python 2",
   "language": "python",
   "name": "python2"
  },
  "language_info": {
   "codemirror_mode": {
    "name": "ipython",
    "version": 2
   },
   "file_extension": ".py",
   "mimetype": "text/x-python",
   "name": "python",
   "nbconvert_exporter": "python",
   "pygments_lexer": "ipython2",
   "version": "2.7.12"
  }
 },
 "nbformat": 4,
 "nbformat_minor": 0
}
