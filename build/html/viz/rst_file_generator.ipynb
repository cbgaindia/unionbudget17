{
 "cells": [
  {
   "cell_type": "code",
   "execution_count": 58,
   "metadata": {
    "collapsed": true,
    "deletable": true,
    "editable": true
   },
   "outputs": [],
   "source": [
    "from os import listdir\n",
    "import csv\n",
    "from os.path import isfile, join"
   ]
  },
  {
   "cell_type": "code",
   "execution_count": 59,
   "metadata": {
    "collapsed": true,
    "deletable": true,
    "editable": true
   },
   "outputs": [],
   "source": [
    "dir_path = \"../../../source/total_expenditure_by_select_ministries/\"\n",
    "file_path = \"data/total_expenditure_by_select_ministries.csv\"\n",
    "file_name = \"total_expenditure_by_select_ministries\""
   ]
  },
  {
   "cell_type": "code",
   "execution_count": 60,
   "metadata": {
    "collapsed": false,
    "deletable": true,
    "editable": true,
    "scrolled": true
   },
   "outputs": [
    {
     "name": "stdout",
     "output_type": "stream",
     "text": [
      "<open file 'data/total_expenditure_by_select_ministries.csv', mode 'r+' at 0x7f76dc3d6540>\n",
      "Total_Expenditure_By_Select_Ministries\n",
      "ministry_of_culture 1. Ministry of Culture\n",
      "ministrydept_of_drinking_water_and_sanitation 2. Ministry/Dept. of Drinking Water and Sanitation\n",
      "ministry_of_health_and_family_welfare_including_ayush 3. Ministry of Health and Family Welfare (including AYUSH)\n",
      "ministry_of_housing_and_urban_poverty_alleviation 4. Ministry of Housing and Urban Poverty Alleviation\n",
      "ministry_of_human_resource_development 5. Ministry of Human Resource Development\n",
      "ministry_of_labour_and_employment 6. Ministry of Labour and Employment\n",
      "ministry_of_minority_affairs 7. Ministry of Minority Affairs\n",
      "ministry_of_social_justice_and_empowerment 8. Ministry of Social Justice and Empowerment\n",
      "ministry_of_tribal_affairs 9. Ministry of Tribal Affairs\n",
      "dept_of_urban_development 10. Dept. of Urban Development\n",
      "ministry_of_women_and_child_development 11. Ministry of Women and Child Development\n",
      "ministry_of_youth_affairs_and_sports 12. Ministry of Youth Affairs and Sports\n",
      "empowerment_of_persons_with_disabilities 13. Empowerment of Persons with Disabilities\n",
      "ministry_of_agriculture_cooperation_and_farmers_welfare 14. Ministry of Agriculture, Cooperation and Farmers Welfare\n",
      "ministry_of_environment_forest_and_climate_change 15. Ministry of Environment, Forest and Climate Change \n",
      "ministry_of_rural_development 16. Ministry of Rural Development\n",
      "ministry_of_consumer_affairs_food_and_public_distribution_food_subsidy 17. Ministry of Consumer Affairs, Food and Public Distribution (Food Subsidy)\n",
      "total_expenditure_in_select_ministries_1_to_17 Total expenditure in select ministries (1 to 17)\n",
      "ministry_of_road_transport_and_highways 18. Ministry of Road Transport and Highways\n",
      "defence 19. Defence\n",
      "total_expenditure_in_select_ministries_1_to_19 Total expenditure in select ministries (1 to 19)\n",
      "total_union_government_expenditure Total Union Government Expenditure\n",
      "total_expenditure_in_ministries_1_to_17_as_share_of_total_union_govt_expenditure_in_perc Total expenditure in ministries (1 to 17) as share of total Union Govt. expenditure (in %)\n",
      "total_expenditure_in_ministries_1_to_19_as_share_of_total_union_govt_expenditure_in_perc Total expenditure in ministries (1 to 19) as share of total Union Govt. expenditure (in %)\n",
      "gdp_at_current_market_prices_series GDP at current market prices (2011-12 series)\n",
      "total_expenditure_in_select_ministries_1_to_17_as_share_of_gdp_in_perc Total expenditure in select ministries (1 to 17) as share of GDP (in %)\n",
      "total_expenditure_in_select_ministries_1_to_19_as_share_of_gdp_in_perc Total expenditure in select ministries (1 to 19) as share of GDP (in %)\n"
     ]
    }
   ],
   "source": [
    "\n",
    "#remove_characters =\"!@#$()*%\"\n",
    "with open(file_path, 'r+') as csvfile:\n",
    "    print csvfile\n",
    "    \n",
    "    index_file = open(dir_path + \"index.rst\", \"wb\")\n",
    "    print file_name.title()\n",
    "    index_file.write(file_name.title().replace(\"_\",\" \") + \"\\n\")\n",
    "    index_file.write(\"=\"*len(file_name) + \"\\n\")\n",
    "    index_file.write(\"\\nContents:\\n\\n\")\n",
    "    index_file.write(\".. toctree::\\n\\t:maxdepth: 2\\n\\n\")\n",
    "\n",
    "    reader = csv.DictReader(csvfile)\n",
    "    for line in reader:\n",
    "        sub_file = line[\"index_name\"]\n",
    "        index_file.write(\"\\t\" + line[\"slug_name\"] +\"\\n\")\n",
    "        print line['slug_name'], line[\"index_name\"]\n",
    "        fo = open(dir_path + line[\"slug_name\"]+\".rst\", \"wb\")\n",
    "        fo.write(line[\"index_name\"]+\"\\n\")\n",
    "        fo.write(\"=\"*(len(line[\"index_name\"])+ 3) + \"\\n\")\n",
    "        fo.write(\"\\n.. raw:: html\\n\\n\" )\n",
    "        fo.write(\"\\t\" + str(\"<iframe src='../viz/visualization.html#barchart/\"+ file_name +\"/\"+ line[\"slug_name\"] +\"' width='100%', height='500', frameBorder='0'></iframe>\"))\n",
    "        fo.close()\n",
    "    index_file.close()"
   ]
  },
  {
   "cell_type": "code",
   "execution_count": 41,
   "metadata": {
    "collapsed": false,
    "deletable": true,
    "editable": true
   },
   "outputs": [
    {
     "name": "stdout",
     "output_type": "stream",
     "text": [
      "Agriculture\n"
     ]
    }
   ],
   "source": [
    "\n"
   ]
  },
  {
   "cell_type": "code",
   "execution_count": null,
   "metadata": {
    "collapsed": true,
    "deletable": true,
    "editable": true
   },
   "outputs": [],
   "source": []
  }
 ],
 "metadata": {
  "kernelspec": {
   "display_name": "Python 2",
   "language": "python",
   "name": "python2"
  },
  "language_info": {
   "codemirror_mode": {
    "name": "ipython",
    "version": 2
   },
   "file_extension": ".py",
   "mimetype": "text/x-python",
   "name": "python",
   "nbconvert_exporter": "python",
   "pygments_lexer": "ipython2",
   "version": "2.7.12"
  }
 },
 "nbformat": 4,
 "nbformat_minor": 0
}
