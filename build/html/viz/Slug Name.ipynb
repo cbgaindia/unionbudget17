{
 "cells": [
  {
   "cell_type": "code",
   "execution_count": 1,
   "metadata": {
    "collapsed": true
   },
   "outputs": [],
   "source": [
    "import pandas as pd\n",
    "import numpy as np\n",
    "from os import listdir\n",
    "from os.path import isfile, join"
   ]
  },
  {
   "cell_type": "code",
   "execution_count": 82,
   "metadata": {
    "collapsed": false
   },
   "outputs": [],
   "source": [
    "#files = [\"overview\", \"transfer_of_resources_to_states\", \"social_sector_allocations_and_priorities\",\"tax_gdp_buoyancy\", \"annual_estimated_revenue_foregone\", \"price_rise\", \"education\", \"health\", \"drinking_water_and_sanitation\", \"ministry_of_rural_development\", \"agriculture\", \"food_security\",\"nutrition\", \"climate_change\", \"women\", \"children\", \"dalits\", \"adivasis\", \"religious_minorities\", \"social_security\", \"urban_poverty\", \"disability\", \"share_of_expenditure_by_moa\", \"share_of_food_subsidy_allocation\"]\n",
    "path= \"data/\"\n",
    "onlyfiles = [f for f in listdir(path) if isfile(join(path, f))]"
   ]
  },
  {
   "cell_type": "code",
   "execution_count": 2,
   "metadata": {
    "collapsed": false
   },
   "outputs": [],
   "source": [
    "\n",
    "def add_slug(path):\n",
    "    df=pd.read_csv(path)\n",
    "    df[\"slug_name\"] = np.nan\n",
    "    for index, row in enumerate(df.iterrows()):\n",
    "        row[1][-1] = \"_\".join(row[1][0].split(\" \")).lower()\n",
    "        df[\"slug_name\"][index] = \"_\".join(row[1][-1].split(\" \")).lower()\n",
    "        cols = df.columns.tolist()\n",
    "    cols = cols[-1:] + cols[:-1]\n",
    "    df = df[cols]\n",
    "    df.to_csv(path, index=False)\n",
    " "
   ]
  },
  {
   "cell_type": "code",
   "execution_count": 3,
   "metadata": {
    "collapsed": false
   },
   "outputs": [
    {
     "name": "stderr",
     "output_type": "stream",
     "text": [
      "/home/akshay/anaconda2/lib/python2.7/site-packages/ipykernel/__main__.py:7: SettingWithCopyWarning: \n",
      "A value is trying to be set on a copy of a slice from a DataFrame\n",
      "\n",
      "See the caveats in the documentation: http://pandas.pydata.org/pandas-docs/stable/indexing.html#indexing-view-versus-copy\n",
      "/home/akshay/anaconda2/lib/python2.7/site-packages/pandas/core/indexing.py:117: SettingWithCopyWarning: \n",
      "A value is trying to be set on a copy of a slice from a DataFrame\n",
      "\n",
      "See the caveats in the documentation: http://pandas.pydata.org/pandas-docs/stable/indexing.html#indexing-view-versus-copy\n",
      "  self._setitem_with_indexer(indexer, value)\n"
     ]
    }
   ],
   "source": [
    "add_slug(\"data/health.csv\")"
   ]
  },
  {
   "cell_type": "code",
   "execution_count": 89,
   "metadata": {
    "collapsed": false
   },
   "outputs": [
    {
     "name": "stdout",
     "output_type": "stream",
     "text": [
      "climate_change.csv\n",
      "climate_change.csv\n",
      "women.csv\n",
      "women.csv\n",
      "urban_poverty.csv\n",
      "urban_poverty.csv\n",
      "religious_minorities.csv\n",
      "religious_minorities.csv\n",
      "share_of_food_subsidy_allocation.csv\n",
      "share_of_food_subsidy_allocation.csv\n",
      "agriculture.csv\n",
      "agriculture.csv\n",
      "social_sector_expenditure_as_share_of_aggregate_disbursements_by_states.csv\n",
      "social_sector_expenditure_as_share_of_aggregate_disbursements_by_states.csv\n",
      "tax_gdp_buoyancy.csv\n",
      "tax_gdp_buoyancy.csv\n",
      "price_rise.csv\n",
      "price_rise.csv\n",
      "ministry_of_social_justice_and_empowerment.csv\n",
      "ministry_of_social_justice_and_empowerment.csv\n",
      "social_security.csv\n",
      "social_security.csv\n",
      "disability.csv\n",
      "disability.csv\n",
      "share_of_expenditure_by_moa.csv\n",
      "share_of_expenditure_by_moa.csv\n",
      "health.csv\n",
      "health.csv\n",
      "transpose.py\n",
      "transpose.py\n",
      "food_security.csv\n",
      "social_sector_allocations_and_priorities.csv\n",
      "transfer_of_resources_to_states.csv\n",
      "education.csv\n",
      ".~lock.social_sector_expenditure_as_share_of_aggregate_disbursements_by_states.csv#\n",
      "annual_estimated_revenue_foregone.csv\n",
      "table_list.csv\n",
      "dalits.csv\n",
      "overview.csv\n",
      "children.csv\n",
      "children.csv\n",
      "ministry_of_tribal_affairs.csv\n",
      "ministry_of_rural_development.csv\n",
      "nutrition.csv\n",
      "adivasis.csv\n",
      "adivasis.csv\n",
      "drinking_water_and_sanitation.csv\n",
      "composition_and_structure_of_transfer_of_resources_to_states.csv\n"
     ]
    },
    {
     "name": "stderr",
     "output_type": "stream",
     "text": [
      "/home/akshay/anaconda2/lib/python2.7/site-packages/ipykernel/__main__.py:7: SettingWithCopyWarning: \n",
      "A value is trying to be set on a copy of a slice from a DataFrame\n",
      "\n",
      "See the caveats in the documentation: http://pandas.pydata.org/pandas-docs/stable/indexing.html#indexing-view-versus-copy\n"
     ]
    }
   ],
   "source": [
    "for fil in onlyfiles:\n",
    "    #path = \"data/\"+fil+\".csv\"\n",
    "    print fil\n",
    "    try :\n",
    "        if fil[0] != \".\" and fil != \"table_list.csv\" :\n",
    "            add_slug(\"data/\"+fil)\n",
    "        #add_slug(path)\n",
    "    except :\n",
    "        print fil"
   ]
  },
  {
   "cell_type": "code",
   "execution_count": null,
   "metadata": {
    "collapsed": true
   },
   "outputs": [],
   "source": []
  }
 ],
 "metadata": {
  "kernelspec": {
   "display_name": "Python 2",
   "language": "python",
   "name": "python2"
  },
  "language_info": {
   "codemirror_mode": {
    "name": "ipython",
    "version": 2
   },
   "file_extension": ".py",
   "mimetype": "text/x-python",
   "name": "python",
   "nbconvert_exporter": "python",
   "pygments_lexer": "ipython2",
   "version": "2.7.11"
  }
 },
 "nbformat": 4,
 "nbformat_minor": 0
}
