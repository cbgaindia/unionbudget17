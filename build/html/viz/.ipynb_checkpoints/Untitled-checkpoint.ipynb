{
 "cells": [
  {
   "cell_type": "code",
   "execution_count": 17,
   "metadata": {
    "collapsed": true
   },
   "outputs": [],
   "source": [
    "import pandas as pd\n",
    "import numpy as np\n",
    "from os import listdir\n",
    "from os.path import isfile, join"
   ]
  },
  {
   "cell_type": "code",
   "execution_count": 18,
   "metadata": {
    "collapsed": true
   },
   "outputs": [],
   "source": [
    "#files = [\"overview\", \"transfer_of_resources_to_states\", \"social_sector_allocations_and_priorities\",\"tax_gdp_buoyancy\", \"annual_estimated_revenue_foregone\", \"price_rise\", \"education\", \"health\", \"drinking_water_and_sanitation\", \"ministry_of_rural_development\", \"agriculture\", \"food_security\",\"nutrition\", \"climate_change\", \"women\", \"children\", \"dalits\", \"adivasis\", \"religious_minorities\", \"social_security\", \"urban_poverty\", \"disability\", \"share_of_expenditure_by_moa\", \"share_of_food_subsidy_allocation\"]\n",
    "onlyfiles = [f for f in listdir(mypath) if isfile(join(mypath, f))]"
   ]
  },
  {
   "cell_type": "code",
   "execution_count": 77,
   "metadata": {
    "collapsed": false
   },
   "outputs": [],
   "source": [
    "\n",
    "def add_slug(path):\n",
    "    df=pd.read_csv(path)\n",
    "    df[\"slug_name\"] = np.nan\n",
    "    for index, row in enumerate(df.iterrows()):\n",
    "        row[1][-1] = \"_\".join(row[1][0].split(\" \")).lower()\n",
    "        df[\"slug_name\"][index] = \"_\".join(row[1][-1].split(\" \")).lower()\n",
    "        cols = df.columns.tolist()\n",
    "    cols = cols[-1:] + cols[:-1]\n",
    "    df = df[cols]\n",
    "    df.to_csv(path, index=False)\n",
    " "
   ]
  },
  {
   "cell_type": "code",
   "execution_count": 78,
   "metadata": {
    "collapsed": false
   },
   "outputs": [
    {
     "name": "stderr",
     "output_type": "stream",
     "text": [
      "/home/akshay/anaconda2/lib/python2.7/site-packages/ipykernel/__main__.py:7: SettingWithCopyWarning: \n",
      "A value is trying to be set on a copy of a slice from a DataFrame\n",
      "\n",
      "See the caveats in the documentation: http://pandas.pydata.org/pandas-docs/stable/indexing.html#indexing-view-versus-copy\n"
     ]
    }
   ],
   "source": [
    "add_slug(\"data/children.csv\")"
   ]
  },
  {
   "cell_type": "code",
   "execution_count": 79,
   "metadata": {
    "collapsed": false
   },
   "outputs": [
    {
     "name": "stdout",
     "output_type": "stream",
     "text": [
      "data/overview.csv\n",
      "data/transfer_of_resources_to_states.csv\n",
      "data/social_sector_allocations_and_priorities.csv\n",
      "data/tax_gdp_buoyancy.csv\n",
      "data/annual_estimated_revenue_foregone.csv\n",
      "data/price_rise.csv\n",
      "data/education.csv\n",
      "data/health.csv\n",
      "data/drinking_water_and_sanitation.csv\n",
      "data/ministry_of_rural_development.csv\n",
      "data/agriculture.csv\n",
      "data/food_security.csv\n",
      "data/nutrition.csv\n",
      "data/climate_change.csv\n",
      "data/women.csv\n",
      "data/children.csv\n",
      "data/dalits.csv\n",
      "data/adivasis.csv\n",
      "data/religious_minorities.csv\n",
      "data/social_security.csv\n",
      "data/urban_poverty.csv\n",
      "data/disability.csv\n",
      "data/share_of_expenditure_by_moa.csv\n",
      "data/share_of_food_subsidy_allocation.csv\n"
     ]
    }
   ],
   "source": [
    "for fil in files:\n",
    "    path = \"data/\"+fil+\".csv\"\n",
    "    print path\n",
    "    #add_slug(path)\n",
    "    "
   ]
  },
  {
   "cell_type": "code",
   "execution_count": null,
   "metadata": {
    "collapsed": true
   },
   "outputs": [],
   "source": []
  }
 ],
 "metadata": {
  "kernelspec": {
   "display_name": "Python 2",
   "language": "python",
   "name": "python2"
  },
  "language_info": {
   "codemirror_mode": {
    "name": "ipython",
    "version": 2
   },
   "file_extension": ".py",
   "mimetype": "text/x-python",
   "name": "python",
   "nbconvert_exporter": "python",
   "pygments_lexer": "ipython2",
   "version": "2.7.11"
  }
 },
 "nbformat": 4,
 "nbformat_minor": 0
}
