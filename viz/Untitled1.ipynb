{
 "cells": [
  {
   "cell_type": "code",
   "execution_count": 1,
   "metadata": {
    "collapsed": true
   },
   "outputs": [],
   "source": [
    "import pandas as pd"
   ]
  },
  {
   "cell_type": "code",
   "execution_count": 2,
   "metadata": {
    "collapsed": true
   },
   "outputs": [],
   "source": [
    "df=pd.read_csv(\"data/dalits.csv\")"
   ]
  },
  {
   "cell_type": "code",
   "execution_count": 3,
   "metadata": {
    "collapsed": false
   },
   "outputs": [
    {
     "data": {
      "text/html": [
       "<div>\n",
       "<table border=\"1\" class=\"dataframe\">\n",
       "  <thead>\n",
       "    <tr style=\"text-align: right;\">\n",
       "      <th></th>\n",
       "      <th>slug_name</th>\n",
       "      <th>index_name</th>\n",
       "      <th>2012-13</th>\n",
       "      <th>2013-14</th>\n",
       "      <th>2014-15</th>\n",
       "      <th>2015-16</th>\n",
       "      <th>2016-17 BE</th>\n",
       "      <th>2016-17 RE</th>\n",
       "      <th>2017-18 BE</th>\n",
       "      <th>unit</th>\n",
       "      <th>color</th>\n",
       "    </tr>\n",
       "  </thead>\n",
       "  <tbody>\n",
       "    <tr>\n",
       "      <th>0</th>\n",
       "      <td>special_central_assistance_to_tribal_sub_plan</td>\n",
       "      <td>Special Central Assistance to Tribal Sub Plan</td>\n",
       "      <td>853</td>\n",
       "      <td>1050</td>\n",
       "      <td>1040</td>\n",
       "      <td>1132</td>\n",
       "      <td>1250</td>\n",
       "      <td>1200</td>\n",
       "      <td>1350</td>\n",
       "      <td>Rs. Crore</td>\n",
       "      <td>#4F9300</td>\n",
       "    </tr>\n",
       "    <tr>\n",
       "      <th>1</th>\n",
       "      <td>scheme_under_proviso_to_article_275(1)_of_the_...</td>\n",
       "      <td>Scheme under proviso to Article 275(1) of the ...</td>\n",
       "      <td>820</td>\n",
       "      <td>1097</td>\n",
       "      <td>1133</td>\n",
       "      <td>1392</td>\n",
       "      <td>1400</td>\n",
       "      <td>1260</td>\n",
       "      <td>1500</td>\n",
       "      <td>Rs. Crore</td>\n",
       "      <td>#4F9301</td>\n",
       "    </tr>\n",
       "    <tr>\n",
       "      <th>2</th>\n",
       "      <td>umbrella_scheme_for_development_of_sts:vanband...</td>\n",
       "      <td>Umbrella Scheme for Development of STs:Vanband...</td>\n",
       "      <td>0</td>\n",
       "      <td>112</td>\n",
       "      <td>100</td>\n",
       "      <td>629</td>\n",
       "      <td>505</td>\n",
       "      <td>472</td>\n",
       "      <td>505</td>\n",
       "      <td>Rs. Crore</td>\n",
       "      <td>#4F9302</td>\n",
       "    </tr>\n",
       "    <tr>\n",
       "      <th>3</th>\n",
       "      <td>umbrella_scheme_for_education_of_st_children</td>\n",
       "      <td>Umbrella Scheme for Education of ST children</td>\n",
       "      <td>981</td>\n",
       "      <td>1213</td>\n",
       "      <td>1059</td>\n",
       "      <td>1221</td>\n",
       "      <td>1505</td>\n",
       "      <td>1740</td>\n",
       "      <td>1756</td>\n",
       "      <td>Rs. Crore</td>\n",
       "      <td>#4F9303</td>\n",
       "    </tr>\n",
       "  </tbody>\n",
       "</table>\n",
       "</div>"
      ],
      "text/plain": [
       "                                           slug_name  \\\n",
       "0      special_central_assistance_to_tribal_sub_plan   \n",
       "1  scheme_under_proviso_to_article_275(1)_of_the_...   \n",
       "2  umbrella_scheme_for_development_of_sts:vanband...   \n",
       "3       umbrella_scheme_for_education_of_st_children   \n",
       "\n",
       "                                          index_name  2012-13  2013-14  \\\n",
       "0      Special Central Assistance to Tribal Sub Plan      853     1050   \n",
       "1  Scheme under proviso to Article 275(1) of the ...      820     1097   \n",
       "2  Umbrella Scheme for Development of STs:Vanband...        0      112   \n",
       "3       Umbrella Scheme for Education of ST children      981     1213   \n",
       "\n",
       "   2014-15  2015-16  2016-17 BE  2016-17 RE  2017-18 BE       unit    color  \n",
       "0     1040     1132        1250        1200        1350  Rs. Crore  #4F9300  \n",
       "1     1133     1392        1400        1260        1500  Rs. Crore  #4F9301  \n",
       "2      100      629         505         472         505  Rs. Crore  #4F9302  \n",
       "3     1059     1221        1505        1740        1756  Rs. Crore  #4F9303  "
      ]
     },
     "execution_count": 3,
     "metadata": {},
     "output_type": "execute_result"
    }
   ],
   "source": [
    "df"
   ]
  },
  {
   "cell_type": "code",
   "execution_count": 4,
   "metadata": {
    "collapsed": false
   },
   "outputs": [
    {
     "name": "stdout",
     "output_type": "stream",
     "text": [
      " .. raw:: html\n",
      "\n",
      "    <iframe src=\"https://cbgaindia.github.io/unionbudget17/viz/visualization.html#barchart/dalits/special_central_assistance_to_tribal_sub_plan\" width=\"100%\", height=\"500\",  frameBorder=\"0\"></iframe>\n",
      "\n",
      " .. raw:: html\n",
      "\n",
      "    <iframe src=\"https://cbgaindia.github.io/unionbudget17/viz/visualization.html#barchart/dalits/scheme_under_proviso_to_article_275(1)_of_the_constitution\" width=\"100%\", height=\"500\",  frameBorder=\"0\"></iframe>\n",
      "\n",
      " .. raw:: html\n",
      "\n",
      "    <iframe src=\"https://cbgaindia.github.io/unionbudget17/viz/visualization.html#barchart/dalits/umbrella_scheme_for_development_of_sts:vanbandhu_kalyan_yojna\" width=\"100%\", height=\"500\",  frameBorder=\"0\"></iframe>\n",
      "\n",
      " .. raw:: html\n",
      "\n",
      "    <iframe src=\"https://cbgaindia.github.io/unionbudget17/viz/visualization.html#barchart/dalits/umbrella_scheme_for_education_of_st_children\" width=\"100%\", height=\"500\",  frameBorder=\"0\"></iframe>\n",
      "\n"
     ]
    }
   ],
   "source": [
    "file_name= \"dalits\"\n",
    "for index, row in enumerate(df.iterrows()):\n",
    "    print \" .. raw:: html\\n\"\n",
    "    print '    <iframe src=\"https://cbgaindia.github.io/unionbudget17/viz/visualization.html#barchart/'+file_name+'/'+row[1][0] +'\" width=\"100%\", height=\"500\",  frameBorder=\"0\"></iframe>\\n'"
   ]
  },
  {
   "cell_type": "code",
   "execution_count": null,
   "metadata": {
    "collapsed": true
   },
   "outputs": [],
   "source": []
  }
 ],
 "metadata": {
  "kernelspec": {
   "display_name": "Python 2",
   "language": "python",
   "name": "python2"
  },
  "language_info": {
   "codemirror_mode": {
    "name": "ipython",
    "version": 2
   },
   "file_extension": ".py",
   "mimetype": "text/x-python",
   "name": "python",
   "nbconvert_exporter": "python",
   "pygments_lexer": "ipython2",
   "version": "2.7.11"
  }
 },
 "nbformat": 4,
 "nbformat_minor": 0
}
