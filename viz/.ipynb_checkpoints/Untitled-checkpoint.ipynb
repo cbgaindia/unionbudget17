{
 "cells": [
  {
   "cell_type": "code",
   "execution_count": 5,
   "metadata": {
    "collapsed": true
   },
   "outputs": [],
   "source": [
    "from os import listdir\n",
    "import csv\n",
    "from os.path import isfile, join"
   ]
  },
  {
   "cell_type": "code",
   "execution_count": 37,
   "metadata": {
    "collapsed": true
   },
   "outputs": [],
   "source": [
    "dir_path = \"../../../source/agriculture/\"\n",
    "file_path = \"./data/agriculture.csv\"\n",
    "file_name = \"agriculture\""
   ]
  },
  {
   "cell_type": "code",
   "execution_count": 44,
   "metadata": {
    "collapsed": false,
    "scrolled": true
   },
   "outputs": [
    {
     "name": "stdout",
     "output_type": "stream",
     "text": [
      "<open file './data/agriculture.csv', mode 'r+' at 0x7f1c2c6454b0>\n",
      "Agriculture\n",
      "department_of_agriculture,_cooperation_and_farmers_welfare Department of Agriculture, Cooperation and Farmers Welfare\n",
      "department_of_animal_husbandry,_dairying_and_fisheries Department of Animal Husbandry, Dairying and Fisheries\n",
      "department_of_agricultural_research_and_education Department of Agricultural Research and Education\n",
      "total_expenditure_under_moa_with_interest_subvention_(rs._in_crore) Total Expenditure under MoA with Interest Subvention (Rs. in Crore)\n",
      "interest__subvention__for_providing_short_term_credit_to_farmers Interest  Subvention  for Providing Short Term Credit to Farmers\n",
      "share_of_expenditure_by_moa_(including_interest_subvention)_in_total_union_government_expenditure_(%) Share of Expenditure by MoA (including Interest Subvention) in Total Union Government Expenditure (%)\n",
      "share_of_expenditure_by_moa_(including_interest_subvention)_in_gdp_(%) Share of Expenditure by MoA (including Interest Subvention) in GDP (%)\n",
      "pradhan_mantri_fasal_bima_yojana_(pmfby) Pradhan Mantri Fasal Bima Yojana (PMFBY)\n",
      "total_allocations_for_pradhan_mantri_krishi_sinchai_yojana__(pmksy) Total Allocations for Pradhan Mantri Krishi Sinchai Yojana  (PMKSY)\n",
      "rashtriya_krishi_vikas_yojana_(rkvy) Rashtriya Krishi Vikas Yojana (RKVY)\n",
      "national_food_security_mission_(nfsm) National Food Security Mission (NFSM)\n",
      "paramparagat_krishi_vikas_yojana_(pkvy) Paramparagat Krishi Vikas Yojana (PKVY)\n",
      "national_mission_on_oil_seed_and_oil_palm_(nmoop) National Mission on Oil Seed and Oil Palm (NMOOP)\n",
      "national_mission_on_horticulture_(nmh) National Mission on Horticulture (NMH)\n",
      "white_revolution White Revolution\n",
      "blue_revolution Blue Revolution\n"
     ]
    }
   ],
   "source": [
    "\n",
    "#remove_characters =\"!@#$()*%\"\n",
    "with open(file_path, 'r+') as csvfile:\n",
    "    print csvfile\n",
    "    \n",
    "    index_file = open(dir_path + \"index.rst\", \"wb\")\n",
    "    print file_name.title()\n",
    "    index_file.write(file_name.title()+ \"\\n\")\n",
    "    index_file.write(\"=\"*(len(file_name)+ 3) + \"\\n\")\n",
    "    index_file.write(\"\\nContents:\\n\\n\")\n",
    "    index_file.write(\".. toctree::\\n\\t:maxdepth: 2\")\n",
    "\n",
    "    reader = csv.DictReader(csvfile)\n",
    "    for line in reader:\n",
    "        sub_file = line[\"index_name\"]\n",
    "        index_file.write(line[\"slug_name\"])\n",
    "        print line['slug_name'], line[\"index_name\"]\n",
    "        fo = open(dir_path + line[\"slug_name\"]+\".rst\", \"wb\")\n",
    "        fo.write(line[\"index_name\"]+\"\\n\")\n",
    "        fo.write(\"=\"*(len(line[\"index_name\"])+ 3) + \"\\n\")\n",
    "        fo.write(\"\\n.. raw:: html\\n\\n\" )\n",
    "        fo.write(\"\\t\" + str(\"<iframe src='../viz/visualization.html#barchart/\"+ file_name +\"/\"+ line[\"slug_name\"] +\" width='100%', height='500', frameBorder='0'></iframe>\"))\n",
    "        fo.close()\n",
    "    index_file.close()"
   ]
  },
  {
   "cell_type": "code",
   "execution_count": 41,
   "metadata": {
    "collapsed": false
   },
   "outputs": [
    {
     "name": "stdout",
     "output_type": "stream",
     "text": [
      "Agriculture\n"
     ]
    }
   ],
   "source": [
    "\n"
   ]
  },
  {
   "cell_type": "code",
   "execution_count": null,
   "metadata": {
    "collapsed": true
   },
   "outputs": [],
   "source": []
  }
 ],
 "metadata": {
  "kernelspec": {
   "display_name": "Python 2",
   "language": "python",
   "name": "python2"
  },
  "language_info": {
   "codemirror_mode": {
    "name": "ipython",
    "version": 2
   },
   "file_extension": ".py",
   "mimetype": "text/x-python",
   "name": "python",
   "nbconvert_exporter": "python",
   "pygments_lexer": "ipython2",
   "version": "2.7.11"
  }
 },
 "nbformat": 4,
 "nbformat_minor": 0
}
