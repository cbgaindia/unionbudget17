{
 "cells": [
  {
   "cell_type": "code",
   "execution_count": 10,
   "metadata": {
    "collapsed": true,
    "deletable": true,
    "editable": true
   },
   "outputs": [],
   "source": [
    "from os import listdir\n",
    "import csv\n",
    "from os.path import isfile, join"
   ]
  },
  {
   "cell_type": "code",
   "execution_count": 11,
   "metadata": {
    "collapsed": true,
    "deletable": true,
    "editable": true
   },
   "outputs": [],
   "source": [
    "dir_path = \"../../../source/women/\"\n",
    "file_path = \"data/women.csv\"\n",
    "file_name = \"women\""
   ]
  },
  {
   "cell_type": "code",
   "execution_count": 12,
   "metadata": {
    "collapsed": false,
    "deletable": true,
    "editable": true,
    "scrolled": true
   },
   "outputs": [
    {
     "name": "stdout",
     "output_type": "stream",
     "text": [
      "<open file 'data/women.csv', mode 'r+' at 0x7f76dc3d68a0>\n",
      "Women\n",
      "total_allocations_to_ministry_of_women_and_child_development Total allocations to Ministry of Women and Child Development\n",
      "allocations_to_ministry_of_women_and_child_development_as_a_proportion_of_union_budget Allocations to Ministry of Women and Child Development as a proportion of Union Budget\n",
      "core_icds_anganwadiservices Core ICDS/AnganwadiServices\n",
      "maternity_benefit_programme_indira_gandhi_matritva_sahyog_yojana Maternity Benefit Programme (Indira Gandhi MatritvaSahyogYojana)\n",
      "rajiv_gandhi_scheme_for_empowerment_of_adolescent_girls-sabla Rajiv Gandhi Scheme for Empowerment of Adolescent Girls-SABLA\n",
      "rajiv_gandhi_national_creche_scheme_for_children_of_working_mothers Rajiv Gandhi National Creche Scheme for Children of Working Mothers \n",
      "beti_bachao_beti_padhao Beti Bachao Beti Padhao\n",
      "one_stop_centre One Stop Centre\n",
      "women_helpline Women’s Helpline\n",
      "other_schemes Other Schemes\n",
      "swadhar_greh Swadhar Greh\n"
     ]
    }
   ],
   "source": [
    "\n",
    "#remove_characters =\"!@#$()*%\"\n",
    "with open(file_path, 'r+') as csvfile:\n",
    "    print csvfile\n",
    "    \n",
    "    index_file = open(dir_path + \"index.rst\", \"wb\")\n",
    "    print file_name.title()\n",
    "    index_file.write(file_name.title()+ \"\\n\")\n",
    "    index_file.write(\"=\"*(len(file_name)+ 3) + \"\\n\")\n",
    "    index_file.write(\"\\nContents:\\n\\n\")\n",
    "    index_file.write(\".. toctree::\\n\\t:maxdepth: 2\\n\\n\")\n",
    "\n",
    "    reader = csv.DictReader(csvfile)\n",
    "    for line in reader:\n",
    "        sub_file = line[\"index_name\"]\n",
    "        index_file.write(\"\\t\" + line[\"slug_name\"]+ \".rst\" +\"\\n\")\n",
    "        print line['slug_name'], line[\"index_name\"]\n",
    "        fo = open(dir_path + line[\"slug_name\"]+\".rst\", \"wb\")\n",
    "        fo.write(line[\"index_name\"]+\"\\n\")\n",
    "        fo.write(\"=\"*(len(line[\"index_name\"])+ 3) + \"\\n\")\n",
    "        fo.write(\"\\n.. raw:: html\\n\\n\" )\n",
    "        fo.write(\"\\t\" + str(\"<iframe src='../viz/visualization.html#barchart/\"+ file_name +\"/\"+ line[\"slug_name\"] +\"' width='100%', height='500', frameBorder='0'></iframe>\"))\n",
    "        fo.close()\n",
    "    index_file.close()"
   ]
  },
  {
   "cell_type": "code",
   "execution_count": 41,
   "metadata": {
    "collapsed": false,
    "deletable": true,
    "editable": true
   },
   "outputs": [
    {
     "name": "stdout",
     "output_type": "stream",
     "text": [
      "Agriculture\n"
     ]
    }
   ],
   "source": [
    "\n"
   ]
  },
  {
   "cell_type": "code",
   "execution_count": null,
   "metadata": {
    "collapsed": true,
    "deletable": true,
    "editable": true
   },
   "outputs": [],
   "source": []
  }
 ],
 "metadata": {
  "kernelspec": {
   "display_name": "Python 2",
   "language": "python",
   "name": "python2"
  },
  "language_info": {
   "codemirror_mode": {
    "name": "ipython",
    "version": 2
   },
   "file_extension": ".py",
   "mimetype": "text/x-python",
   "name": "python",
   "nbconvert_exporter": "python",
   "pygments_lexer": "ipython2",
   "version": "2.7.12"
  }
 },
 "nbformat": 4,
 "nbformat_minor": 0
}
